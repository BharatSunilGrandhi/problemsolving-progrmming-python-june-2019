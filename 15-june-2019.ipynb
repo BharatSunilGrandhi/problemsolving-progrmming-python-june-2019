{
 "cells": [
  {
   "cell_type": "code",
   "execution_count": 14,
   "metadata": {},
   "outputs": [
    {
     "name": "stdout",
     "output_type": "stream",
     "text": [
      "2\n"
     ]
    }
   ],
   "source": [
    "def factors(n):\n",
    "    for a in range (1,n):\n",
    "        n=n*a\n",
    "    print(n)\n",
    "    return\n",
    "#a=int(input())\n",
    "factors(2)"
   ]
  },
  {
   "cell_type": "code",
   "execution_count": 20,
   "metadata": {},
   "outputs": [
    {
     "name": "stdout",
     "output_type": "stream",
     "text": [
      "BHARAT\n"
     ]
    }
   ],
   "source": [
    "# FOR UPPER CASE TO LOWER CASE\n",
    "\n",
    "a = \"BHARAT\"\n",
    "print(a.lower())"
   ]
  },
  {
   "cell_type": "code",
   "execution_count": 32,
   "metadata": {},
   "outputs": [
    {
     "name": "stdout",
     "output_type": "stream",
     "text": [
      "enter11\n"
     ]
    },
    {
     "data": {
      "text/plain": [
       "'11'"
      ]
     },
     "execution_count": 32,
     "metadata": {},
     "output_type": "execute_result"
    }
   ],
   "source": [
    "a = (input(\"enter\"))\n",
    "a\n",
    "\n",
    "#a = \"abcd\"\n",
    "#a.split()\n",
    "#b=a.upper()\n",
    "#b"
   ]
  },
  {
   "cell_type": "code",
   "execution_count": 15,
   "metadata": {},
   "outputs": [
    {
     "name": "stdout",
     "output_type": "stream",
     "text": [
      "enter a value1\n",
      "enter b value1\n"
     ]
    },
    {
     "data": {
      "text/plain": [
       "'11'"
      ]
     },
     "execution_count": 15,
     "metadata": {},
     "output_type": "execute_result"
    }
   ],
   "source": [
    "a = (input(\"enter a value\"))\n",
    "sum=0\n",
    "b= (input(\"enter b value\"))\n",
    "sum= a+b\n",
    "sum\n",
    "#print(c)"
   ]
  },
  {
   "cell_type": "code",
   "execution_count": 19,
   "metadata": {},
   "outputs": [
    {
     "name": "stdout",
     "output_type": "stream",
     "text": [
      "enter inputbharat\n"
     ]
    },
    {
     "data": {
      "text/plain": [
       "'BHARAT'"
      ]
     },
     "execution_count": 19,
     "metadata": {},
     "output_type": "execute_result"
    }
   ],
   "source": [
    "a= str(input(\"enter input\"))\n",
    "r= (a.swapcase())\n",
    "r"
   ]
  },
  {
   "cell_type": "code",
   "execution_count": 23,
   "metadata": {},
   "outputs": [
    {
     "name": "stdout",
     "output_type": "stream",
     "text": [
      "2\n"
     ]
    }
   ],
   "source": [
    "n=2\n",
    "for a in range(1,n):\n",
    "    n=n*a\n",
    "print(n)"
   ]
  },
  {
   "cell_type": "code",
   "execution_count": 12,
   "metadata": {},
   "outputs": [
    {
     "name": "stdout",
     "output_type": "stream",
     "text": [
      "11\n",
      "2 3 5 7 11 None\n"
     ]
    }
   ],
   "source": [
    "s=int(input())\n",
    "\n",
    "def nprime(r):\n",
    "    for a in range(2,r+1):\n",
    "        flag = 1\n",
    "        for i in range(2,a//2+1):\n",
    "            if (a%i==0):\n",
    "                flag = 0\n",
    "                break\n",
    "        if flag:\n",
    "            print(a,end=\" \")\n",
    "                \n",
    "            #if(k<=0):\n",
    "\n",
    "k=nprime(s)\n",
    "print(k)"
   ]
  },
  {
   "cell_type": "code",
   "execution_count": 5,
   "metadata": {},
   "outputs": [],
   "source": [
    "def nPrime(n):\n",
    "    k = 0\n",
    "    for i in range(2, n//2+1):\n",
    "        if n % i == 0:\n",
    "            break\n",
    "        else:\n",
    "            print(isprime)\n",
    "\n",
    "nPrime(10)"
   ]
  },
  {
   "cell_type": "code",
   "execution_count": 13,
   "metadata": {},
   "outputs": [
    {
     "name": "stdout",
     "output_type": "stream",
     "text": [
      "3\n",
      "7\n",
      "7\n",
      "6\n",
      "6\n",
      "2\n",
      "2\n"
     ]
    }
   ],
   "source": [
    "n=int(input())\n",
    "for i in range(n):\n",
    "    z=int(input())\n",
    "    print(z)"
   ]
  },
  {
   "cell_type": "code",
   "execution_count": 15,
   "metadata": {},
   "outputs": [
    {
     "data": {
      "text/plain": [
       "['a', 'h', 'i', 'r']"
      ]
     },
     "execution_count": 15,
     "metadata": {},
     "output_type": "execute_result"
    }
   ],
   "source": [
    "s1=\"hari\"\n",
    "s1=sorted(s1)\n",
    "s1"
   ]
  },
  {
   "cell_type": "code",
   "execution_count": 9,
   "metadata": {},
   "outputs": [
    {
     "name": "stdout",
     "output_type": "stream",
     "text": [
      "input value: trv\n"
     ]
    },
    {
     "data": {
      "text/plain": [
       "'given name is not palindrome'"
      ]
     },
     "execution_count": 9,
     "metadata": {},
     "output_type": "execute_result"
    }
   ],
   "source": [
    "# input take by user\n",
    "def palindrome(n):\n",
    "    if n==n[::-1]:\n",
    "        return (\"given name is palindrome \")\n",
    "    else:\n",
    "        return (\"given name is not palindrome\")\n",
    "n =input(\"input value: \")\n",
    "palindrome(n)"
   ]
  },
  {
   "cell_type": "code",
   "execution_count": null,
   "metadata": {},
   "outputs": [],
   "source": []
  }
 ],
 "metadata": {
  "kernelspec": {
   "display_name": "Python 3",
   "language": "python",
   "name": "python3"
  },
  "language_info": {
   "codemirror_mode": {
    "name": "ipython",
    "version": 3
   },
   "file_extension": ".py",
   "mimetype": "text/x-python",
   "name": "python",
   "nbconvert_exporter": "python",
   "pygments_lexer": "ipython3",
   "version": "3.7.3"
  }
 },
 "nbformat": 4,
 "nbformat_minor": 2
}
