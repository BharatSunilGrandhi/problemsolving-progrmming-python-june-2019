{
 "cells": [
  {
   "cell_type": "code",
   "execution_count": 83,
   "metadata": {},
   "outputs": [],
   "source": [
    "# Function to generate marks data for n \n",
    "from random import randint\n",
    "\n",
    "def generatemarks(n, lb, ub):\n",
    "    with open('Data Files/marks.txt','w') as f:\n",
    "        for i in range(0,n):\n",
    "            r=randint(lb,ub)\n",
    "            f.write(str(r)+'\\n')\n",
    "    return\n",
    "generatemarks(10000,0,100)"
   ]
  },
  {
   "cell_type": "code",
   "execution_count": 84,
   "metadata": {},
   "outputs": [
    {
     "data": {
      "text/plain": [
       "50.152"
      ]
     },
     "execution_count": 84,
     "metadata": {},
     "output_type": "execute_result"
    }
   ],
   "source": [
    "# Class average marks\n",
    "\n",
    "def classaverage(filepath):\n",
    "    with open(filepath,'r')as f:\n",
    "        fh=f.read()\n",
    "        sum1=0\n",
    "        n=10000\n",
    "        for i in fh.split():\n",
    "            sum1=sum1+int(i)\n",
    "        return sum1/n\n",
    "filepath='Data Files/marks.txt'\n",
    "classaverage(filepath)"
   ]
  },
  {
   "cell_type": "code",
   "execution_count": 85,
   "metadata": {},
   "outputs": [
    {
     "data": {
      "text/plain": [
       "70.43"
      ]
     },
     "execution_count": 85,
     "metadata": {},
     "output_type": "execute_result"
    }
   ],
   "source": [
    "# Function to find pass percentage\n",
    "def passpercentage(filepath):\n",
    "    count=0\n",
    "    n=10000\n",
    "    with open (filepath,'r')as f:\n",
    "        while True:\n",
    "            filedata=f.readline()\n",
    "            if filedata>='35':\n",
    "                count=count+1\n",
    "            if not filedata:\n",
    "                break\n",
    "    return count/n*100\n",
    "filepath= 'Data Files/marks.txt'\n",
    "passpercentage(filepath)"
   ]
  },
  {
   "cell_type": "code",
   "execution_count": 86,
   "metadata": {},
   "outputs": [
    {
     "name": "stdout",
     "output_type": "stream",
     "text": [
      "501520\n"
     ]
    }
   ],
   "source": [
    "# sum \n",
    "with open(filepath,'r')as f:\n",
    "    s=0\n",
    "    for i in f:\n",
    "        s=s+int(i)\n",
    "print(s)"
   ]
  },
  {
   "cell_type": "code",
   "execution_count": 88,
   "metadata": {},
   "outputs": [
    {
     "data": {
      "text/plain": [
       "26.38"
      ]
     },
     "execution_count": 88,
     "metadata": {},
     "output_type": "execute_result"
    }
   ],
   "source": [
    "# Function to find Distinction percentage\n",
    "\n",
    "def Distinctionpercentage(filepath):\n",
    "    count=0\n",
    "    n=10000\n",
    "    with open (filepath,'r')as f:\n",
    "        while True:\n",
    "            filedata=f.readline()\n",
    "            if filedata>='75':\n",
    "                count=count+1\n",
    "            if not filedata:\n",
    "                break\n",
    "    return count/n*100\n",
    "filepath= 'Data Files/marks.txt'\n",
    "Distinctionpercentage(filepath)"
   ]
  },
  {
   "cell_type": "code",
   "execution_count": 89,
   "metadata": {},
   "outputs": [
    {
     "data": {
      "text/plain": [
       "29.580000000000002"
      ]
     },
     "execution_count": 89,
     "metadata": {},
     "output_type": "execute_result"
    }
   ],
   "source": [
    "# Function to find failed percentage\n",
    "\n",
    "def failedpercentage(filepath):\n",
    "    count=0\n",
    "    n=10000\n",
    "    with open (filepath,'r')as f:\n",
    "        while True:\n",
    "            filedata=f.readline()\n",
    "            if filedata<='35':\n",
    "                count=count+1\n",
    "            if not filedata:\n",
    "                break\n",
    "    return count/n*100\n",
    "filepath= 'Data Files/marks.txt'\n",
    "failedpercentage(filepath)"
   ]
  },
  {
   "cell_type": "code",
   "execution_count": 92,
   "metadata": {},
   "outputs": [
    {
     "name": "stdout",
     "output_type": "stream",
     "text": [
      "{'48': 98, '69': 122, '23': 115, '41': 121, '36': 89, '94': 101, '35': 102, '67': 98, '38': 91, '14': 99, '25': 94, '8': 84, '28': 115, '13': 94, '54': 95, '53': 105, '88': 95, '71': 103, '3': 116, '75': 92, '55': 90, '80': 103, '9': 90, '76': 119, '84': 121, '90': 88, '52': 92, '17': 96, '60': 92, '7': 94, '73': 103, '5': 109, '57': 103, '96': 92, '44': 103, '12': 84, '34': 82, '45': 122, '47': 98, '91': 106, '30': 106, '31': 109, '58': 93, '15': 101, '1': 96, '87': 116, '68': 90, '77': 84, '98': 105, '51': 110, '89': 103, '29': 98, '59': 103, '2': 95, '78': 98, '32': 87, '4': 95, '70': 105, '42': 105, '18': 90, '11': 114, '6': 97, '97': 99, '39': 89, '63': 114, '81': 104, '27': 95, '62': 114, '65': 102, '79': 89, '22': 81, '86': 94, '10': 101, '16': 113, '64': 98, '19': 123, '24': 105, '20': 78, '66': 101, '43': 102, '85': 99, '40': 90, '99': 99, '50': 95, '82': 100, '93': 79, '72': 114, '100': 94, '46': 70, '74': 96, '37': 101, '26': 98, '21': 78, '33': 110, '56': 98, '83': 103, '61': 96, '49': 97, '0': 90, '92': 79, '95': 96}\n"
     ]
    }
   ],
   "source": [
    "# Highest marks frequency\n",
    "def freqdistributionofhighmarks(filepath):\n",
    "    unique ={}\n",
    "    with open(filepath, 'r') as f: \n",
    "        list=f.read().split()\n",
    "        for i in list:            \n",
    "            if i in unique:        \n",
    "                unique[i]=unique[i]+1 \n",
    "            else:\n",
    "                unique[i]=1           \n",
    "    print(unique)                     \n",
    "filepath ='Data Files/marks.txt'        \n",
    "freqdistributionofhighmarks(filepath)"
   ]
  },
  {
   "cell_type": "code",
   "execution_count": null,
   "metadata": {},
   "outputs": [],
   "source": []
  },
  {
   "cell_type": "code",
   "execution_count": null,
   "metadata": {},
   "outputs": [],
   "source": []
  }
 ],
 "metadata": {
  "kernelspec": {
   "display_name": "Python 3",
   "language": "python",
   "name": "python3"
  },
  "language_info": {
   "codemirror_mode": {
    "name": "ipython",
    "version": 3
   },
   "file_extension": ".py",
   "mimetype": "text/x-python",
   "name": "python",
   "nbconvert_exporter": "python",
   "pygments_lexer": "ipython3",
   "version": "3.7.3"
  }
 },
 "nbformat": 4,
 "nbformat_minor": 2
}
