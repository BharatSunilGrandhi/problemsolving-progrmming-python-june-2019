{
 "cells": [
  {
   "cell_type": "code",
   "execution_count": 81,
   "metadata": {},
   "outputs": [
    {
     "name": "stdout",
     "output_type": "stream",
     "text": [
      "2 2 2 2 2 2 2 2 2 2 "
     ]
    }
   ],
   "source": [
    "# Function to generate a single number in n times\n",
    "\n",
    "def isleapyear(start, end):\n",
    "    n =0\n",
    "    for i in range (start,end+1):\n",
    "        n = start+1\n",
    "        print (n, end =\" \")\n",
    "    return\n",
    "isleapyear(1,10)\n",
    "        \n",
    "        "
   ]
  },
  {
   "cell_type": "code",
   "execution_count": 28,
   "metadata": {},
   "outputs": [
    {
     "name": "stdout",
     "output_type": "stream",
     "text": [
      "2000 2004 2008 2012 2016 2020 "
     ]
    }
   ],
   "source": [
    "# Function to generate leap years in given range by using call functions\n",
    "\n",
    "def isleapyear(year):\n",
    "    if year % 400 ==0 or (year % 100 != 0 and year % 4 ==0):\n",
    "        return True\n",
    "    return False\n",
    "\n",
    "def generateleapyears (startyear, endyear):\n",
    "    for year in range(startyear,endyear+1):\n",
    "        if isleapyear(year):\n",
    "            print (year, end = \" \")\n",
    "    return\n",
    "generateleapyears(2000,2020)"
   ]
  },
  {
   "cell_type": "code",
   "execution_count": 53,
   "metadata": {},
   "outputs": [
    {
     "data": {
      "text/plain": [
       "665107"
      ]
     },
     "execution_count": 53,
     "metadata": {},
     "output_type": "execute_result"
    }
   ],
   "source": [
    "# calculate number of days in given time period using leapyear logic\n",
    "\n",
    "def daysofyear(year):\n",
    "    if year % 400 ==0 or (year % 100!=0 and year % 4 ==0):\n",
    "        \n",
    "        return True\n",
    "    return False\n",
    "\n",
    "\n",
    "def numofdays(startyear, endyear):\n",
    "    sum =0\n",
    "    for year in range(startyear, endyear+1):\n",
    "         if daysofyear(year):\n",
    "                sum = sum+366\n",
    "         else:\n",
    "                sum = sum+365\n",
    "    return sum\n",
    "\n",
    "numofdays(200,2020)\n",
    "    \n"
   ]
  },
  {
   "cell_type": "code",
   "execution_count": 95,
   "metadata": {},
   "outputs": [
    {
     "data": {
      "text/plain": [
       "30"
      ]
     },
     "execution_count": 95,
     "metadata": {},
     "output_type": "execute_result"
    }
   ],
   "source": [
    "# Function to calculate number of hours in a given time period\n",
    "# 2, 2017 and 6,2019\n",
    "# \n",
    "\n",
    "def numberofdaysmonth (month):\n",
    "    if (month <=7 and month % 2!=0):\n",
    "        return 31\n",
    "    else:\n",
    "        return 30\n",
    "numberofdaysmonth (9)\n",
    "\n",
    "\n",
    "\n",
    "\n",
    "\n",
    "\n",
    "\n",
    "\n"
   ]
  },
  {
   "cell_type": "code",
   "execution_count": 82,
   "metadata": {},
   "outputs": [
    {
     "name": "stdout",
     "output_type": "stream",
     "text": [
      "29 27 25 23 21 19 17 15 13 11 9 7 5 3 1 "
     ]
    }
   ],
   "source": [
    "# Function to print odd numbers in reverse order\n",
    "def rorder (start, end):\n",
    "    for i in range (end, start-1,-1):   # for reverse order\n",
    "   # for i in range (start, end+1):      # for forward order\n",
    "        if i % 2 !=0:                   #logic\n",
    "            print(i, end = \" \")\n",
    "    return\n",
    "rorder(1,30)"
   ]
  },
  {
   "cell_type": "code",
   "execution_count": 86,
   "metadata": {},
   "outputs": [
    {
     "name": "stdout",
     "output_type": "stream",
     "text": [
      "2 4 6 8 10 12 14 16 18 20 "
     ]
    }
   ],
   "source": [
    "# Function to print even numbers\n",
    "\n",
    "def evennum (start, end):\n",
    "    for i in range (start, end+1):                 # forward order\n",
    "    #for i in range (end, start-1,-1):             # reverse order\n",
    "        if i % 2 ==0:                              # logic\n",
    "            print(i, end =\" \")\n",
    "    return\n",
    "evennum(1, 20)"
   ]
  },
  {
   "cell_type": "code",
   "execution_count": 6,
   "metadata": {},
   "outputs": [
    {
     "name": "stdout",
     "output_type": "stream",
     "text": [
      "enter a value 567\n"
     ]
    },
    {
     "data": {
      "text/plain": [
       "3"
      ]
     },
     "execution_count": 6,
     "metadata": {},
     "output_type": "execute_result"
    }
   ],
   "source": [
    "a = input(\"enter a value \")\n",
    "a= len(a)\n",
    "a"
   ]
  },
  {
   "cell_type": "code",
   "execution_count": 9,
   "metadata": {},
   "outputs": [
    {
     "name": "stdout",
     "output_type": "stream",
     "text": [
      "enter value12\n",
      "enter value16\n",
      "12 13 14 15 16 "
     ]
    }
   ],
   "source": [
    "a = int(input(\"enter start value\"))\n",
    "b = int(input(\"enter ending value\"))\n",
    "for i in range(a,b+1):\n",
    "    print(i, end =\" \")"
   ]
  },
  {
   "cell_type": "code",
   "execution_count": 12,
   "metadata": {},
   "outputs": [
    {
     "name": "stdout",
     "output_type": "stream",
     "text": [
      "enter starting value2\n",
      "enter starting value5\n",
      "enter starting value2\n",
      "2 * 5 = 10\n",
      "2 * 4 = 8\n",
      "2 * 3 = 6\n",
      "2 * 2 = 4\n"
     ]
    }
   ],
   "source": [
    "a = int(input(\"enter starting value\"))\n",
    "b = int(input(\"enter starting value\"))\n",
    "c = int(input(\"enter starting value\"))\n",
    "for i in range (b,a-1,-1):\n",
    "    print(c,\"*\", i,\"=\",c*i)"
   ]
  },
  {
   "cell_type": "code",
   "execution_count": null,
   "metadata": {},
   "outputs": [],
   "source": []
  },
  {
   "cell_type": "code",
   "execution_count": null,
   "metadata": {},
   "outputs": [],
   "source": []
  },
  {
   "cell_type": "code",
   "execution_count": null,
   "metadata": {},
   "outputs": [],
   "source": []
  },
  {
   "cell_type": "code",
   "execution_count": null,
   "metadata": {},
   "outputs": [],
   "source": []
  },
  {
   "cell_type": "code",
   "execution_count": null,
   "metadata": {},
   "outputs": [],
   "source": []
  },
  {
   "cell_type": "code",
   "execution_count": null,
   "metadata": {},
   "outputs": [],
   "source": []
  },
  {
   "cell_type": "code",
   "execution_count": null,
   "metadata": {},
   "outputs": [],
   "source": []
  }
 ],
 "metadata": {
  "kernelspec": {
   "display_name": "Python 3",
   "language": "python",
   "name": "python3"
  },
  "language_info": {
   "codemirror_mode": {
    "name": "ipython",
    "version": 3
   },
   "file_extension": ".py",
   "mimetype": "text/x-python",
   "name": "python",
   "nbconvert_exporter": "python",
   "pygments_lexer": "ipython3",
   "version": "3.7.3"
  }
 },
 "nbformat": 4,
 "nbformat_minor": 2
}
