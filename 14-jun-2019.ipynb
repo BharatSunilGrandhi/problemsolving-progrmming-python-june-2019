{
 "cells": [
  {
   "cell_type": "markdown",
   "metadata": {},
   "source": [
    "### Problem solving and programming\n",
    "\n",
    "### Day Objectives\n",
    "\n",
    "- Python Data Structures\n",
    "- Python Data Structers\n",
    "    - Lists\n",
    "    - Tuples\n",
    "    - Dictionaries"
   ]
  },
  {
   "cell_type": "code",
   "execution_count": 3,
   "metadata": {},
   "outputs": [
    {
     "data": {
      "text/plain": [
       "978"
      ]
     },
     "execution_count": 3,
     "metadata": {},
     "output_type": "execute_result"
    }
   ],
   "source": [
    "# Python Data Structers\n",
    "# Lists\n",
    "\n",
    "li = [123, 978, 654]\n",
    "li     #access the entire list\n",
    "li[1]  # access a element with index in a list"
   ]
  },
  {
   "cell_type": "code",
   "execution_count": 15,
   "metadata": {},
   "outputs": [
    {
     "data": {
      "text/plain": [
       "[123,\n",
       " 234,\n",
       " 234,\n",
       " 234,\n",
       " 234,\n",
       " 234,\n",
       " 234,\n",
       " 234,\n",
       " 978,\n",
       " 654,\n",
       " 345,\n",
       " 345,\n",
       " 234,\n",
       " 456,\n",
       " 789,\n",
       " 234,\n",
       " 456,\n",
       " 789,\n",
       " 234,\n",
       " 456,\n",
       " 789]"
      ]
     },
     "execution_count": 15,
     "metadata": {},
     "output_type": "execute_result"
    }
   ],
   "source": [
    "li[1:]  # string slicing to access second element to last element\n",
    "\n",
    "\n",
    "li[::-1] # accessing the list in reverse list\n",
    "\n",
    "li\n",
    "\n",
    "li[::2] # accessing even index elements\n",
    "\n",
    "li[1::2] # accessing odd index elements\n",
    "li\n",
    "li[1::-2] \n",
    "li\n",
    "\n",
    "# list can be accessed , manipulated in two different types\n",
    "  # Direct Referencing - [index]\n",
    "  # Direct REferencing - Through functions\n",
    "\n",
    "\n",
    "li.append(345) # adding an element to end of a array\n",
    "li\n",
    "li.insert(1, 234) # adding an element ata a\n",
    "\n",
    "li\n",
    "\n",
    "\n",
    "li.pop()\n",
    "li\n",
    "\n",
    "li2 = [234, 456, 789]\n",
    "li.extend(li2)\n",
    "li\n",
    "\n"
   ]
  },
  {
   "cell_type": "code",
   "execution_count": 18,
   "metadata": {},
   "outputs": [
    {
     "data": {
      "text/plain": [
       "21"
      ]
     },
     "execution_count": 18,
     "metadata": {},
     "output_type": "execute_result"
    }
   ],
   "source": [
    "sum(li)  # sum of all elements in a list\n",
    "max(li)  # Maximum element in a list\n",
    "len(li)  # number of elements"
   ]
  },
  {
   "cell_type": "code",
   "execution_count": 26,
   "metadata": {},
   "outputs": [
    {
     "data": {
      "text/plain": [
       "16.0"
      ]
     },
     "execution_count": 26,
     "metadata": {},
     "output_type": "execute_result"
    }
   ],
   "source": [
    "# average of list elements\n",
    "\n",
    "li=[10,12,14,16,18,20]\n",
    "average = sum(li[0::2])/len(li[0::2]) # even index average\n",
    "average1 = sum(li[1::2])/len(li[1::2]) # odd index\n",
    "average1\n",
    "\n",
    "# average of alternate elements\n",
    "\n",
    "\n",
    "\n",
    "\n"
   ]
  },
  {
   "cell_type": "code",
   "execution_count": 58,
   "metadata": {},
   "outputs": [
    {
     "data": {
      "text/plain": [
       "[3, 1]"
      ]
     },
     "execution_count": 58,
     "metadata": {},
     "output_type": "execute_result"
    }
   ],
   "source": [
    "# Function to identify the second largest element\n",
    "\n",
    "li=[1,4,3,2,7,8,5,6]\n",
    "li.sort() \n",
    "(li[-2])\n",
    "\n",
    "\n"
   ]
  },
  {
   "cell_type": "code",
   "execution_count": 59,
   "metadata": {},
   "outputs": [
    {
     "data": {
      "text/plain": [
       "4"
      ]
     },
     "execution_count": 59,
     "metadata": {},
     "output_type": "execute_result"
    }
   ],
   "source": [
    "# function that return the nth element\n",
    "\n",
    "def largest(li,n):\n",
    "    li.sort()\n",
    "    return li[-n]\n",
    "largest(li,5)\n",
    "\n",
    "\n",
    "\n",
    "\n"
   ]
  },
  {
   "cell_type": "code",
   "execution_count": 99,
   "metadata": {},
   "outputs": [
    {
     "data": {
      "text/plain": [
       "7"
      ]
     },
     "execution_count": 99,
     "metadata": {},
     "output_type": "execute_result"
    }
   ],
   "source": [
    "# Function to search for a data in list\n",
    "# search for the key in the list return the key,otherwise return -1 key not found\n",
    "def linearsearch(li,key):\n",
    "        \n",
    "    for ele in li:\n",
    "        if ele==key:\n",
    "            return li.index(ele)\n",
    "    return (\"key not matched\")\n",
    "linearsearch([1,3,56,7,35,11,22,32,544,664,66,2,567,89,77],32)\n",
    "    \n",
    "    \n",
    "\n"
   ]
  },
  {
   "cell_type": "code",
   "execution_count": 111,
   "metadata": {},
   "outputs": [
    {
     "name": "stdout",
     "output_type": "stream",
     "text": [
      "enter a string = bharat sunil\n",
      "enter a character = a\n"
     ]
    },
    {
     "data": {
      "text/plain": [
       "2"
      ]
     },
     "execution_count": 111,
     "metadata": {},
     "output_type": "execute_result"
    }
   ],
   "source": [
    "# Function to count the occurances of a character\n",
    "# \"python programming\", m-> 2\n",
    "def occurance (li,char):\n",
    "    count =0\n",
    "    for i in li:\n",
    "        if i==char:\n",
    "            count = count+1\n",
    "    return count\n",
    "a=input(\"enter a string = \")\n",
    "b=input('enter a character = ')\n",
    "occurance(a,b)"
   ]
  },
  {
   "cell_type": "code",
   "execution_count": 120,
   "metadata": {},
   "outputs": [
    {
     "ename": "IndentationError",
     "evalue": "unexpected indent (<ipython-input-120-90b51ab1bd54>, line 3)",
     "output_type": "error",
     "traceback": [
      "\u001b[1;36m  File \u001b[1;32m\"<ipython-input-120-90b51ab1bd54>\"\u001b[1;36m, line \u001b[1;32m3\u001b[0m\n\u001b[1;33m    for count.le == char:\u001b[0m\n\u001b[1;37m    ^\u001b[0m\n\u001b[1;31mIndentationError\u001b[0m\u001b[1;31m:\u001b[0m unexpected indent\n"
     ]
    }
   ],
   "source": [
    "def occ (li,char):\n",
    "    count=0\n",
    "     if count.le == char:\n",
    "            count = count+1\n",
    "    return count\n",
    "a=input(\"enter a string = \")\n",
    "b=input('enter a character = ')\n",
    "occurance(a,b) "
   ]
  },
  {
   "cell_type": "code",
   "execution_count": 124,
   "metadata": {},
   "outputs": [
    {
     "data": {
      "text/plain": [
       "[1, 2, 3, 4, 5, 6]"
      ]
     },
     "execution_count": 124,
     "metadata": {},
     "output_type": "execute_result"
    }
   ],
   "source": [
    "s = \"1 2 3 4 5 6\"\n",
    "li = s.split()\n",
    "numberlist=[]\n",
    "for i in li:\n",
    "    numberlist.append(int(i))\n",
    "numberlist\n",
    "\n",
    "# n = int(input())\n",
    "# s = input()\n",
    "# li = s.split()"
   ]
  },
  {
   "cell_type": "code",
   "execution_count": null,
   "metadata": {},
   "outputs": [],
   "source": []
  },
  {
   "cell_type": "code",
   "execution_count": null,
   "metadata": {},
   "outputs": [],
   "source": []
  },
  {
   "cell_type": "code",
   "execution_count": null,
   "metadata": {},
   "outputs": [],
   "source": []
  },
  {
   "cell_type": "code",
   "execution_count": null,
   "metadata": {},
   "outputs": [],
   "source": []
  },
  {
   "cell_type": "code",
   "execution_count": null,
   "metadata": {},
   "outputs": [],
   "source": []
  },
  {
   "cell_type": "code",
   "execution_count": null,
   "metadata": {},
   "outputs": [],
   "source": []
  },
  {
   "cell_type": "code",
   "execution_count": null,
   "metadata": {},
   "outputs": [],
   "source": []
  },
  {
   "cell_type": "code",
   "execution_count": null,
   "metadata": {},
   "outputs": [],
   "source": []
  }
 ],
 "metadata": {
  "kernelspec": {
   "display_name": "Python 3",
   "language": "python",
   "name": "python3"
  }
 },
 "nbformat": 4,
 "nbformat_minor": 2
}
