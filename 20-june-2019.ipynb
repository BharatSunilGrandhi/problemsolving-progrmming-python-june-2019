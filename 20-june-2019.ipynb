{
 "cells": [
  {
   "cell_type": "markdown",
   "metadata": {},
   "source": [
    "### Regular Expressions\n",
    "- Pattern Matching\n",
    "- Symbolic notation of a pattern\n",
    "    - Pattern : Format which repeats\n",
    "    - Pattern(RE) - The set of all values that matches a paticular pattern\n",
    "- [0-9]                                -> Any Digit\n",
    "- [a-z]                                -> Any lower case alphabet\n",
    "- [2468]                               -> All multiples of 2\n",
    "- ^[0-9]{1}$                           -> only single digit numbers\n",
    "-  ^[1-9][-0-9]*[0|5]$                 -> All multiples of 5\n",
    "-  ^[0-9]{10} $                        -> all digit of 10\n",
    "- ^[1-9][0-9]*0$                       -> all multiples of 10\n",
    "- ^[6-9][0-9]{9}$                      -> Phone number starting with(9876) followeed by 9 digits\n",
    "- ^[a-z0-9A-Z]*[@][a-z]*[.][a-z]*$     -> for email@.extensiondomain name\n",
    "- ^[a-z0-9A-Z]{4,15}[@][a-z]{3,18}[.][a-z]{2,4}$ ->email with limit\n",
    "-  [p][r][i][n][t]$                    -> for highligting the word print\n",
    "-  (print)                             -> search group of elements\n",
    "- ^(AO)[0-9]{9}$                       -> for emp id \n",
    "- ^a...z$                              -> starts with a and ends with z in middle 3 digits/numers/spl char"
   ]
  },
  {
   "cell_type": "code",
   "execution_count": null,
   "metadata": {},
   "outputs": [],
   "source": []
  },
  {
   "cell_type": "code",
   "execution_count": 16,
   "metadata": {},
   "outputs": [
    {
     "data": {
      "text/plain": [
       "['0', '3', '9']"
      ]
     },
     "execution_count": 16,
     "metadata": {},
     "output_type": "execute_result"
    }
   ],
   "source": [
    "import re\n",
    "re.split('[a-f]+','0a3b9')"
   ]
  },
  {
   "cell_type": "code",
   "execution_count": 28,
   "metadata": {},
   "outputs": [
    {
     "name": "stdout",
     "output_type": "stream",
     "text": [
      "Valid\n"
     ]
    }
   ],
   "source": [
    "# Function to validate a phone number\n",
    "import re\n",
    "\n",
    "def phonenumvalidator(number):\n",
    "    pattern ='[6-9][0-9]{9}$'\n",
    "    if re.match(pattern,str( number)):\n",
    "        print(\"Valid\")\n",
    "    else:\n",
    "        print(\"invalid number\")\n",
    "    return\n",
    "phonenumvalidator(9235678905)\n",
    "        \n"
   ]
  },
  {
   "cell_type": "code",
   "execution_count": 10,
   "metadata": {},
   "outputs": [
    {
     "data": {
      "text/plain": [
       "1"
      ]
     },
     "execution_count": 10,
     "metadata": {},
     "output_type": "execute_result"
    }
   ],
   "source": [
    "d={7:1,8:2}\n",
    "d[7]"
   ]
  },
  {
   "cell_type": "code",
   "execution_count": null,
   "metadata": {},
   "outputs": [],
   "source": [
    "def addcontact (name, phone, email):\n",
    "     if name not in contacts and phonenumbervalidator(number)\n",
    "        contacts[name] = phone\n",
    "        print(\"cntact %s added\" %name)\n",
    "    if not"
   ]
  },
  {
   "cell_type": "code",
   "execution_count": 13,
   "metadata": {},
   "outputs": [
    {
     "name": "stdout",
     "output_type": "stream",
     "text": [
      "n1 \n",
      " Phone: 32425   Email: kuma@gmail.com\n",
      "n2 \n",
      " Phone: 6576523   Email: rfags@gmail.com\n"
     ]
    }
   ],
   "source": [
    "dic={\"n1\":[32425,\"kuma@gmail.com\"],\"n2\":[6576523,\"rfags@gmail.com\"]}\n",
    "for i in dic:\n",
    "    print(i,\"\\n\",\"Phone:\",dic[i][0],\" \",\"Email:\",dic[i][1])"
   ]
  },
  {
   "cell_type": "markdown",
   "metadata": {},
   "source": [
    "### File Handling in Python\n",
    "\n",
    "File - Document containing information residing\n",
    "Types - Text, pdf, CSV etc\n",
    "\n",
    "File I/O - Channelling I/O data to files\n",
    "Default I/O Channels - Keyboard / Screen\n",
    "\n",
    "change I/O Channel to files for reading and writing\n",
    "\n",
    "Read a file - input\n",
    "write to a file - output to a file \n",
    "\n",
    "Read / write file - open(filename, mode)"
   ]
  },
  {
   "cell_type": "code",
   "execution_count": 25,
   "metadata": {},
   "outputs": [
    {
     "name": "stdout",
     "output_type": "stream",
     "text": [
      "<class 'str'>\n",
      "line 1\n",
      "line 2\n",
      "line 3\n"
     ]
    }
   ],
   "source": [
    "# Function to read a file\n",
    "\n",
    "def readfile(filename):\n",
    "    f= open(filename, 'r')\n",
    "    filedata = f.read()\n",
    "    #f.close()\n",
    "    #return filedata\n",
    "    print(type(filedata))\n",
    "    for i in filedata.split('/n'):\n",
    "        print(i)\n",
    "filename = 'Data Files/data.txt'\n",
    "readfile(filename)\n"
   ]
  },
  {
   "cell_type": "code",
   "execution_count": 30,
   "metadata": {},
   "outputs": [],
   "source": [
    "# Function to write data into file\n",
    "\n",
    "def writeintofile(filename, filedata):\n",
    "    with open (filename, 'w') as f:\n",
    "        f.write(filedata)\n",
    "    return\n",
    "filename = 'Data Files/data.txt'\n",
    "writeintofile(filename, \" new hello data\")"
   ]
  },
  {
   "cell_type": "code",
   "execution_count": 31,
   "metadata": {},
   "outputs": [],
   "source": [
    "# Function to append data into file\n",
    "\n",
    "def appendintofile(filename, filedata):\n",
    "    with open (filename, 'a') as f:\n",
    "        f.write(filedata)\n",
    "    return\n",
    "filename = 'Data Files/data.txt'\n",
    "appendintofile(filename, \" bharat sunil\")"
   ]
  },
  {
   "cell_type": "code",
   "execution_count": null,
   "metadata": {},
   "outputs": [],
   "source": []
  },
  {
   "cell_type": "code",
   "execution_count": null,
   "metadata": {},
   "outputs": [],
   "source": []
  },
  {
   "cell_type": "code",
   "execution_count": null,
   "metadata": {},
   "outputs": [],
   "source": []
  },
  {
   "cell_type": "code",
   "execution_count": null,
   "metadata": {},
   "outputs": [],
   "source": []
  },
  {
   "cell_type": "code",
   "execution_count": null,
   "metadata": {},
   "outputs": [],
   "source": []
  },
  {
   "cell_type": "code",
   "execution_count": null,
   "metadata": {},
   "outputs": [],
   "source": []
  }
 ],
 "metadata": {
  "kernelspec": {
   "display_name": "Python 3",
   "language": "python",
   "name": "python3"
  }
 },
 "nbformat": 4,
 "nbformat_minor": 2
}
