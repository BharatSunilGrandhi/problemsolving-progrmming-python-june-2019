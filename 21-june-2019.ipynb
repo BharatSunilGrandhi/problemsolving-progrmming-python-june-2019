{
 "cells": [
  {
   "cell_type": "code",
   "execution_count": 1,
   "metadata": {},
   "outputs": [
    {
     "ename": "ModuleNotFoundError",
     "evalue": "No module named 'Packages.validators'",
     "output_type": "error",
     "traceback": [
      "\u001b[1;31m---------------------------------------------------------------------------\u001b[0m",
      "\u001b[1;31mModuleNotFoundError\u001b[0m                       Traceback (most recent call last)",
      "\u001b[1;32m<ipython-input-1-82fda33c1004>\u001b[0m in \u001b[0;36m<module>\u001b[1;34m\u001b[0m\n\u001b[0;32m      1\u001b[0m \u001b[1;31m# Function to add contact to contacts text file\u001b[0m\u001b[1;33m\u001b[0m\u001b[1;33m\u001b[0m\u001b[1;33m\u001b[0m\u001b[0m\n\u001b[1;32m----> 2\u001b[1;33m \u001b[1;32mfrom\u001b[0m \u001b[0mPackages\u001b[0m\u001b[1;33m.\u001b[0m\u001b[0mvalidators\u001b[0m \u001b[1;32mimport\u001b[0m \u001b[0mphoneNumberValidator\u001b[0m \u001b[1;32mas\u001b[0m \u001b[0mpnv\u001b[0m\u001b[1;33m,\u001b[0m \u001b[0memailValidator\u001b[0m \u001b[1;32mas\u001b[0m \u001b[0mev\u001b[0m\u001b[1;33m\u001b[0m\u001b[1;33m\u001b[0m\u001b[0m\n\u001b[0m\u001b[0;32m      3\u001b[0m \u001b[1;31m#from Packages.validators import emailValidator as ev\u001b[0m\u001b[1;33m\u001b[0m\u001b[1;33m\u001b[0m\u001b[1;33m\u001b[0m\u001b[0m\n\u001b[0;32m      4\u001b[0m \u001b[1;33m\u001b[0m\u001b[0m\n\u001b[0;32m      5\u001b[0m \u001b[1;33m\u001b[0m\u001b[0m\n",
      "\u001b[1;31mModuleNotFoundError\u001b[0m: No module named 'Packages.validators'"
     ]
    }
   ],
   "source": [
    "# Function to add contact to contacts text file\n",
    "from Packages.validators import phoneNumberValidator as pnv, emailValidator as ev\n",
    "#from Packages.validators import emailValidator as ev\n",
    "\n",
    "\n",
    "def addContact(name, phone, email):\n",
    "    # store data as name,phone,email in the contacts file    \n",
    "    filename = 'DataFiles/contacts.txt'\n",
    "    if not checkContactExists(name):\n",
    "        if pnv(phone) and ev(email):\n",
    "            with open(filename, 'a') as f:\n",
    "                line = name + ',' + str(phone) + ',' + email + '\\n'\n",
    "                f.write(line)\n",
    "            print(name, 'added to contacts')\n",
    "        else:\n",
    "            print('Invalid Phone number or Email')\n",
    "            return\n",
    "    else:\n",
    "        print(name, 'already exists')\n",
    "    return\n",
    "\n",
    "import re\n",
    "# Function to check if contact already exists\n",
    "def checkContactExists(name):\n",
    "    filename = 'DataFiles/contacts.txt'\n",
    "    with open(filename, 'r') as f:\n",
    "        filedata = f.read()\n",
    "        pattern = name+','\n",
    "    return re.search(pattern, filedata)\n",
    "\n",
    "addContact('name2', 8765432109, 'name2_34@gmail.com')"
   ]
  },
  {
   "cell_type": "code",
   "execution_count": null,
   "metadata": {},
   "outputs": [],
   "source": [
    "filename = 'DataFiles/contacts.txt'\n",
    "def csvToList(filename):\n",
    "    li = []\n",
    "    with open(filename, 'r') as f:\n",
    "        for line in f:\n",
    "            li.append(line.split(','))\n",
    "    return li\n",
    "\n",
    "def listToFile(li):\n",
    "    s = ''\n",
    "    for i in li:\n",
    "        s += ','.join(i)\n",
    "    return s\n",
    "    \n",
    "li = csvToList(filename)\n",
    "listToFile(li)"
   ]
  },
  {
   "cell_type": "code",
   "execution_count": null,
   "metadata": {},
   "outputs": [],
   "source": [
    "# Function to append data to a file\n",
    "\n",
    "def appendDataToFile(filename, filedata):\n",
    "    with open(filename, 'a') as f:\n",
    "        for line in filedata:\n",
    "            f.write('\\n'+line)\n",
    "    return\n",
    "\n",
    "filedata = [\"Line4\", \"Line5\"]\n",
    "appendDataToFile(filename, filedata)"
   ]
  },
  {
   "cell_type": "code",
   "execution_count": 3,
   "metadata": {},
   "outputs": [],
   "source": [
    "# write data into file\n",
    "fname = 'Data Files/mycontacts.txt'\n",
    "f=open(fname,'w')\n",
    "f.write(\"raj,9866775810,bharat@gmail.com \")\n",
    "f.close()"
   ]
  },
  {
   "cell_type": "code",
   "execution_count": 4,
   "metadata": {},
   "outputs": [
    {
     "name": "stdout",
     "output_type": "stream",
     "text": [
      "raj,9866775810,bharat@gmail.com\n"
     ]
    }
   ],
   "source": [
    "# Read the data into file\n",
    "with open(fname,'r') as f:\n",
    "    print(f.read())"
   ]
  },
  {
   "cell_type": "code",
   "execution_count": 6,
   "metadata": {},
   "outputs": [],
   "source": [
    "name = 'Data Files/mycontacts.txt'\n",
    "f=open(fname,'w+')\n",
    "f.write(\"rani,9866775810,bharat@gmail.com\")\n",
    "f.close()"
   ]
  },
  {
   "cell_type": "code",
   "execution_count": 8,
   "metadata": {},
   "outputs": [],
   "source": [
    "name = 'Data Files/mycontacts.txt'\n",
    "f=open(fname,'a')\n",
    "f.write(\" raj,9866775810,bharat@gmail.com\")\n",
    "f.close()"
   ]
  },
  {
   "cell_type": "code",
   "execution_count": 13,
   "metadata": {},
   "outputs": [],
   "source": [
    "fname = 'Data Files/mycontacts.txt'\n",
    "f=open(fname,'a')\n",
    "f.write(\" raj,9866775810,bharat@gmail.com\")\n",
    "f.close()"
   ]
  },
  {
   "cell_type": "code",
   "execution_count": 26,
   "metadata": {},
   "outputs": [
    {
     "name": "stdout",
     "output_type": "stream",
     "text": [
      "rani,9866775810,bharat@gmail.com\n",
      "\n",
      "raj,9866775810,bharat@gmail.com\n"
     ]
    }
   ],
   "source": [
    "# Read lines\n",
    "def listcontacts(fname):\n",
    "    with open(fname, 'r') as f:\n",
    "        for line in f.readlines():\n",
    "            print(line)\n",
    "listcontacts(fname)        "
   ]
  },
  {
   "cell_type": "code",
   "execution_count": 27,
   "metadata": {},
   "outputs": [
    {
     "name": "stdout",
     "output_type": "stream",
     "text": [
      "rani,9866775810,bharat@gmail.com\n",
      "\n",
      "raj,9866775810,bharat@gmail.com\n"
     ]
    }
   ],
   "source": [
    "# Call the list\n",
    "fname = 'Data Files/mycontacts.txt'\n",
    "listcontacts(fname)"
   ]
  },
  {
   "cell_type": "code",
   "execution_count": 30,
   "metadata": {},
   "outputs": [
    {
     "name": "stdout",
     "output_type": "stream",
     "text": [
      "['rani,9866775810,bharat@gmail.com\\n']\n",
      "['raj,9866775810,bharat@gmail.com']\n"
     ]
    }
   ],
   "source": [
    "with open(fname, 'r') as f:\n",
    "    for line in f:\n",
    "        print(line.split(sep=' ,'))\n",
    "    "
   ]
  },
  {
   "cell_type": "code",
   "execution_count": 69,
   "metadata": {},
   "outputs": [
    {
     "data": {
      "text/plain": [
       "[['rani', '9866775810', 'bharat@gmail.com\\n'],\n",
       " ['raj', '9866775810', 'bharat@gmail.com']]"
      ]
     },
     "execution_count": 69,
     "metadata": {},
     "output_type": "execute_result"
    }
   ],
   "source": [
    "def csvtolist(fname):\n",
    "    with open(fname, 'r') as f:\n",
    "        f1=[]\n",
    "        for line in f:\n",
    "            f1.append(line.split(sep=','))\n",
    "    return f1\n",
    "csvtolist(fname)"
   ]
  },
  {
   "cell_type": "code",
   "execution_count": 70,
   "metadata": {},
   "outputs": [
    {
     "name": "stdout",
     "output_type": "stream",
     "text": [
      "raj,9866775810,bharat@gmail.com"
     ]
    }
   ],
   "source": [
    "def search(fname,name):\n",
    "    f1 = csvtolist(fname)\n",
    "    for i in f1:\n",
    "        if name==i[0]:\n",
    "            f=1\n",
    "            print(','.join(i),end='')\n",
    "    if f==0:\n",
    "         print('no contact')\n",
    "search(fname,'raj')\n",
    "    "
   ]
  },
  {
   "cell_type": "code",
   "execution_count": 7,
   "metadata": {},
   "outputs": [
    {
     "ename": "NameError",
     "evalue": "name 'fname' is not defined",
     "output_type": "error",
     "traceback": [
      "\u001b[1;31m---------------------------------------------------------------------------\u001b[0m",
      "\u001b[1;31mNameError\u001b[0m                                 Traceback (most recent call last)",
      "\u001b[1;32m<ipython-input-7-eceb83c2bdbb>\u001b[0m in \u001b[0;36m<module>\u001b[1;34m\u001b[0m\n\u001b[0;32m      9\u001b[0m     \u001b[1;32melse\u001b[0m\u001b[1;33m:\u001b[0m\u001b[1;33m\u001b[0m\u001b[1;33m\u001b[0m\u001b[0m\n\u001b[0;32m     10\u001b[0m                 \u001b[0mprint\u001b[0m\u001b[1;33m(\u001b[0m\u001b[1;34m\"contact not found to remove\"\u001b[0m\u001b[1;33m)\u001b[0m\u001b[1;33m\u001b[0m\u001b[1;33m\u001b[0m\u001b[0m\n\u001b[1;32m---> 11\u001b[1;33m \u001b[0mcontactdelete\u001b[0m\u001b[1;33m(\u001b[0m\u001b[0mfname\u001b[0m\u001b[1;33m,\u001b[0m\u001b[1;34m'raj'\u001b[0m\u001b[1;33m)\u001b[0m\u001b[1;33m\u001b[0m\u001b[1;33m\u001b[0m\u001b[0m\n\u001b[0m",
      "\u001b[1;31mNameError\u001b[0m: name 'fname' is not defined"
     ]
    }
   ],
   "source": [
    "def contactdelete(fname,name):\n",
    "    i=search(fname,name)\n",
    "    if i!=-1:\n",
    "        f1=csvtolist(fname)\n",
    "        f1.pop(i)\n",
    "        s=listcontacts(f1)\n",
    "        with open (fname, 'w') as f:\n",
    "            f.write(s)            \n",
    "    else:\n",
    "                print(\"contact not found to remove\")\n",
    "contactdelete(fname,'raj')\n"
   ]
  },
  {
   "cell_type": "code",
   "execution_count": 8,
   "metadata": {},
   "outputs": [
    {
     "name": "stdout",
     "output_type": "stream",
     "text": [
      "5 is of type <class 'int'>\n",
      "2.0 is of type <class 'float'>\n",
      "(1+2j) is complex number? True\n"
     ]
    }
   ],
   "source": [
    "a = 5\n",
    "print(a, \"is of type\", type(a))\n",
    "\n",
    "a = 2.0\n",
    "print(a, \"is of type\", type(a))\n",
    "\n",
    "a = 1+2j\n",
    "print(a, \"is complex number?\", isinstance(1+2j,complex))"
   ]
  },
  {
   "cell_type": "code",
   "execution_count": 10,
   "metadata": {},
   "outputs": [
    {
     "name": "stdout",
     "output_type": "stream",
     "text": [
      "a[2] =  15\n",
      "a[0:3] =  [5, 10, 15]\n",
      "a[5:] =  [30, 35, 40]\n",
      "[5, 10, 15, 20, 25]\n"
     ]
    }
   ],
   "source": [
    "a = [5,10,15,20,25,30,35,40]\n",
    "\n",
    "# a[2] = 15\n",
    "print(\"a[2] = \", a[2])\n",
    "\n",
    "# a[0:3] = [5, 10, 15]\n",
    "print(\"a[0:3] = \", a[0:3])\n",
    "\n",
    "# a[5:] = [30, 35, 40]\n",
    "print(\"a[5:] = \", a[5:])\n",
    "print(a[:5])"
   ]
  },
  {
   "cell_type": "code",
   "execution_count": null,
   "metadata": {},
   "outputs": [],
   "source": []
  },
  {
   "cell_type": "code",
   "execution_count": null,
   "metadata": {},
   "outputs": [],
   "source": []
  },
  {
   "cell_type": "code",
   "execution_count": null,
   "metadata": {},
   "outputs": [],
   "source": []
  },
  {
   "cell_type": "code",
   "execution_count": null,
   "metadata": {},
   "outputs": [],
   "source": []
  },
  {
   "cell_type": "code",
   "execution_count": 15,
   "metadata": {},
   "outputs": [
    {
     "name": "stdout",
     "output_type": "stream",
     "text": [
      "5\n",
      "12\n",
      "1 WS\n",
      "11\n",
      "2 MS\n",
      "56\n",
      "53 MS\n",
      "34\n",
      "27 AS\n",
      "78\n",
      "79 WS\n"
     ]
    }
   ],
   "source": [
    "l=int(input())\n",
    "for i in range (l):\n",
    "    n=int(input())\n",
    "    if(n<=108):\n",
    "        k=n%12\n",
    "        if k==1 or k==6 or k==0 or k==7 :\n",
    "            if k==0:\n",
    "                print(n-11,\"WS\")\n",
    "            elif k==7:\n",
    "                print(n-1,\"WS\")\n",
    "            elif k==6:\n",
    "                print(n+1,\"WS\")\n",
    "            else:\n",
    "                print(n+11, \"WS\")\n",
    "        elif k==2 or k==5 or k==11 or k==8:\n",
    "            if k==11:\n",
    "                print(n-9,\"MS\")\n",
    "            elif k==8:\n",
    "                print(n-3,\"MS\")\n",
    "            elif k==2:\n",
    "                print(n+9, \"MS\")\n",
    "            else:\n",
    "                print(n+3, \"MS\")\n",
    "        elif k==3 or k==4 or k==10 or k==9:\n",
    "            if k==10:\n",
    "                print(n-7,\"AS\")\n",
    "            elif k==9:\n",
    "                print(n-5,\"AS\")\n",
    "            elif k==3:\n",
    "                print(n+7, \"AS\")\n",
    "            else:\n",
    "                print(n+5, \"AS\")\n"
   ]
  },
  {
   "cell_type": "code",
   "execution_count": null,
   "metadata": {},
   "outputs": [],
   "source": []
  },
  {
   "cell_type": "code",
   "execution_count": 2,
   "metadata": {},
   "outputs": [
    {
     "data": {
      "text/plain": [
       "[1, 2, 3, 4]"
      ]
     },
     "execution_count": 2,
     "metadata": {},
     "output_type": "execute_result"
    }
   ],
   "source": [
    "l=[4,3,2,1]\n",
    "l.sort()\n",
    "l"
   ]
  },
  {
   "cell_type": "code",
   "execution_count": null,
   "metadata": {},
   "outputs": [],
   "source": []
  }
 ],
 "metadata": {
  "kernelspec": {
   "display_name": "Python 3",
   "language": "python",
   "name": "python3"
  },
  "language_info": {
   "codemirror_mode": {
    "name": "ipython",
    "version": 3
   },
   "file_extension": ".py",
   "mimetype": "text/x-python",
   "name": "python",
   "nbconvert_exporter": "python",
   "pygments_lexer": "ipython3",
   "version": "3.7.3"
  }
 },
 "nbformat": 4,
 "nbformat_minor": 2
}
