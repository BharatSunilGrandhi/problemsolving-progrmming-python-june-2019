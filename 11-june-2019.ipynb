{
 "cells": [
  {
   "cell_type": "markdown",
   "metadata": {},
   "source": [
    "### Markdown Basics\n",
    "\n",
    "* **Bold** <br>\n",
    "* *Itallic* <br>\n",
    "* ***IB***\n",
    "* Normal Text\n",
    "    * Sublist 1\n",
    "    * Sublist 2\n",
    "    \n",
    "    \n",
    "1. Ordered list element 1\n",
    "2. Ordered list element 2\n",
    "\n",
    "<http://google.com>\n",
    "\n",
    "I get 10 times more traffic from [Google] [1] than from\n",
    "[Yahoo] [2] or [MSN] [3].\n",
    "\n",
    "  [1]: http://google.com/        \"Google\"\n",
    "  [2]: http://search.yahoo.com/  \"Yahoo Search\"\n",
    "  [3]: http://search.msn.com/    \"MSN Search\"\n",
    "\n",
    "-[] Option 1\n",
    "-[] Option 2\n",
    "-[x] Option 3\n",
    "\n",
    "\n",
    "[jupyter Logo](jupyterlogo.png)\n",
    "\n",
    "![jupyter Logo](jupyterlogo.png)\n"
   ]
  },
  {
   "cell_type": "markdown",
   "metadata": {},
   "source": [
    "### Python Basics\n",
    "Python version 3.7\n",
    "\n",
    "- Scripting\n",
    "- Object oriented\n",
    "- Functional"
   ]
  },
  {
   "cell_type": "code",
   "execution_count": 6,
   "metadata": {},
   "outputs": [
    {
     "name": "stdout",
     "output_type": "stream",
     "text": [
      "Good Afternoon 1 hello python\n"
     ]
    }
   ],
   "source": [
    "#python comments\n",
    "\n",
    "print(\"Good Afternoon 1\",end=\" \") #basic output\n",
    "print (\"hello python\")\n"
   ]
  },
  {
   "cell_type": "markdown",
   "metadata": {},
   "source": [
    "### Assignment"
   ]
  },
  {
   "cell_type": "code",
   "execution_count": 16,
   "metadata": {},
   "outputs": [
    {
     "name": "stdout",
     "output_type": "stream",
     "text": [
      "123 234 345\n"
     ]
    }
   ],
   "source": [
    "n1 = 123456 # single variable Assignment\n",
    "\n",
    "n2=n4=n3=n1  #multi variable assignment of the single value\n",
    "n3\n",
    "a, b, c = 123, 234, 345   # multi variable assignment with different values\n",
    "print (a, b, c)"
   ]
  },
  {
   "cell_type": "markdown",
   "metadata": {},
   "source": [
    "### Data Types\n",
    "\n",
    "- int\n",
    "- float\n",
    "- string"
   ]
  },
  {
   "cell_type": "code",
   "execution_count": 42,
   "metadata": {},
   "outputs": [
    {
     "data": {
      "text/plain": [
       "12.0"
      ]
     },
     "execution_count": 42,
     "metadata": {},
     "output_type": "execute_result"
    }
   ],
   "source": [
    "type(a)\n",
    "s1 = \"Python\"\n",
    "type (s1)\n",
    "\n",
    "f1 = 12.345\n",
    "type (f1)\n",
    "\n",
    "int(f1)\n",
    "\n",
    "str(int(f1))\n",
    "\n",
    "float(str(int(f1)))"
   ]
  },
  {
   "cell_type": "code",
   "execution_count": null,
   "metadata": {},
   "outputs": [],
   "source": []
  },
  {
   "cell_type": "code",
   "execution_count": null,
   "metadata": {},
   "outputs": [],
   "source": []
  },
  {
   "cell_type": "markdown",
   "metadata": {},
   "source": [
    "### Arithmetic Operations\n",
    "- +\n",
    "- -\n",
    "- *\n",
    "- /\n",
    "- %\n",
    "- **"
   ]
  },
  {
   "cell_type": "code",
   "execution_count": 48,
   "metadata": {},
   "outputs": [
    {
     "data": {
      "text/plain": [
       "1000000000000000000000000000000000000000000000000000000000000000000000000"
      ]
     },
     "execution_count": 48,
     "metadata": {},
     "output_type": "execute_result"
    }
   ],
   "source": [
    "n1 % 123456\n",
    "n2 ** 12\n",
    "n3 = n2 ** 12\n",
    "type (n3)\n",
    "len(str(n3))\n",
    "\n",
    "n3\n",
    "atoms = 10 ** 72\n",
    "atoms"
   ]
  },
  {
   "cell_type": "code",
   "execution_count": null,
   "metadata": {},
   "outputs": [],
   "source": []
  },
  {
   "cell_type": "markdown",
   "metadata": {},
   "source": [
    "### Conditionals\n"
   ]
  },
  {
   "cell_type": "code",
   "execution_count": 52,
   "metadata": {},
   "outputs": [
    {
     "name": "stdout",
     "output_type": "stream",
     "text": [
      "TRUE\n"
     ]
    }
   ],
   "source": [
    "atoms < 10 ** 79\n",
    "\n",
    "if atoms <= 10 ** 72:\n",
    "    \n",
    "    print (\"TRUE\")\n",
    "else:\n",
    "    print (\"False\")\n",
    "\n",
    "\n",
    "\n"
   ]
  },
  {
   "cell_type": "code",
   "execution_count": 1,
   "metadata": {},
   "outputs": [
    {
     "data": {
      "text/plain": [
       "11.090536506409418"
      ]
     },
     "execution_count": 1,
     "metadata": {},
     "output_type": "execute_result"
    }
   ],
   "source": [
    "# calculate sqaure root\n",
    "n1 = 123\n",
    "n1 ** 0.5"
   ]
  },
  {
   "cell_type": "code",
   "execution_count": null,
   "metadata": {},
   "outputs": [],
   "source": [
    "# calculate the num of nano sec in a year\n",
    "year = 2019\n",
    "if year % 400 == 0 or (year % 100 ! = 0 and year % )\n",
    "print(365 * 24 * 60 * 60 * (10**9))\n",
    "else:\n",
    "    print(365 * 24 * )"
   ]
  }
 ],
 "metadata": {
  "kernelspec": {
   "display_name": "Python 3",
   "language": "python",
   "name": "python3"
  },
  "language_info": {
   "codemirror_mode": {
    "name": "ipython",
    "version": 3
   },
   "file_extension": ".py",
   "mimetype": "text/x-python",
   "name": "python",
   "nbconvert_exporter": "python",
   "pygments_lexer": "ipython3",
   "version": "3.7.3"
  }
 },
 "nbformat": 4,
 "nbformat_minor": 2
}
